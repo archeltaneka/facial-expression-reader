{
 "cells": [
  {
   "cell_type": "code",
   "execution_count": 1,
   "id": "experienced-bouquet",
   "metadata": {},
   "outputs": [],
   "source": [
    "from fastai2.vision.all import *\n",
    "from fastai2.vision.widgets import *"
   ]
  },
  {
   "cell_type": "code",
   "execution_count": 2,
   "id": "affected-antenna",
   "metadata": {},
   "outputs": [],
   "source": [
    "learn = load_learner('model.pkl')"
   ]
  },
  {
   "cell_type": "code",
   "execution_count": 3,
   "id": "sorted-launch",
   "metadata": {},
   "outputs": [],
   "source": [
    "btn_upload = widgets.FileUpload()\n",
    "# btn_upload"
   ]
  },
  {
   "cell_type": "code",
   "execution_count": 4,
   "id": "available-clothing",
   "metadata": {},
   "outputs": [],
   "source": [
    "# btn_upload = SimpleNamespace(data=['test.jfif'])"
   ]
  },
  {
   "cell_type": "code",
   "execution_count": 5,
   "id": "cheap-sunset",
   "metadata": {},
   "outputs": [],
   "source": [
    "# img = PILImage.create(btn_upload.data[-1])"
   ]
  },
  {
   "cell_type": "code",
   "execution_count": 6,
   "id": "simplified-utility",
   "metadata": {},
   "outputs": [],
   "source": [
    "out_pl = widgets.Output()\n",
    "# out_pl.clear_output()\n",
    "# with out_pl: display(img.to_thumb(128,128))\n",
    "# out_pl"
   ]
  },
  {
   "cell_type": "code",
   "execution_count": 7,
   "id": "radical-manner",
   "metadata": {},
   "outputs": [],
   "source": [
    "# pred, pred_idx, probs = learn.predict(img)"
   ]
  },
  {
   "cell_type": "code",
   "execution_count": 8,
   "id": "solid-august",
   "metadata": {},
   "outputs": [],
   "source": [
    "lbl_pred = widgets.Label()\n",
    "# lbl_pred.value = f'Prediction: {pred}; Probability: {probs[pred_idx]:.2f}'\n",
    "# lbl_pred"
   ]
  },
  {
   "cell_type": "code",
   "execution_count": 9,
   "id": "employed-guidance",
   "metadata": {},
   "outputs": [],
   "source": [
    "btn_run = widgets.Button(description='Classify')\n",
    "# btn_run"
   ]
  },
  {
   "cell_type": "code",
   "execution_count": 10,
   "id": "still-daisy",
   "metadata": {},
   "outputs": [],
   "source": [
    "def on_click_classify(change):\n",
    "    img = PILImage.create(btn_upload.data[-1])\n",
    "    out_pl.clear_output()\n",
    "    with out_pl: display(img.to_thumb(128,128))\n",
    "    pred,pred_idx,probs = learn.predict(img)\n",
    "    lbl_pred.value = f'Prediction: {pred}; Probability: {probs[pred_idx]:.2f}'\n",
    "\n",
    "btn_run.on_click(on_click_classify)"
   ]
  },
  {
   "cell_type": "code",
   "execution_count": 11,
   "id": "miniature-smart",
   "metadata": {},
   "outputs": [],
   "source": [
    "btn_upload = widgets.FileUpload()"
   ]
  },
  {
   "cell_type": "code",
   "execution_count": 12,
   "id": "nervous-customer",
   "metadata": {},
   "outputs": [
    {
     "data": {
      "application/vnd.jupyter.widget-view+json": {
       "model_id": "6a58b1bbf82748d6b0e0592f461e0856",
       "version_major": 2,
       "version_minor": 0
      },
      "text/plain": [
       "VBox(children=(Label(value='Select one photo of Rocket Punch members!'), FileUpload(value={}, description='Upl…"
      ]
     },
     "metadata": {},
     "output_type": "display_data"
    }
   ],
   "source": [
    "VBox([widgets.Label('Select one photo of Rocket Punch members!'), \n",
    "      btn_upload, btn_run, out_pl, lbl_pred])"
   ]
  },
  {
   "cell_type": "code",
   "execution_count": 13,
   "id": "tender-toner",
   "metadata": {},
   "outputs": [
    {
     "name": "stderr",
     "output_type": "stream",
     "text": [
      "Enabling: voila\n",
      "- Writing config: C:\\Users\\Archel\\anaconda3\\envs\\machine-learning\\etc\\jupyter\n",
      "    - Validating...\n",
      "      voila 0.2.7 ok\n"
     ]
    }
   ],
   "source": [
    "# install voila if you haven't already\n",
    "# !pip install voila\n",
    "!jupyter serverextension enable --sys-prefix voila"
   ]
  }
 ],
 "metadata": {
  "kernelspec": {
   "display_name": "Python 3",
   "language": "python",
   "name": "python3"
  },
  "language_info": {
   "codemirror_mode": {
    "name": "ipython",
    "version": 3
   },
   "file_extension": ".py",
   "mimetype": "text/x-python",
   "name": "python",
   "nbconvert_exporter": "python",
   "pygments_lexer": "ipython3",
   "version": "3.8.5"
  }
 },
 "nbformat": 4,
 "nbformat_minor": 5
}
