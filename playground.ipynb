{
 "cells": [
  {
   "cell_type": "code",
   "execution_count": 62,
   "metadata": {},
   "outputs": [],
   "source": [
    "import numpy as np\n",
    "import cv2\n",
    "import matplotlib.pyplot as plt\n",
    "import torch\n",
    "import os\n",
    "\n",
    "from ffpyplayer.player import MediaPlayer\n",
    "\n",
    "%matplotlib inline"
   ]
  },
  {
   "cell_type": "code",
   "execution_count": 94,
   "metadata": {},
   "outputs": [],
   "source": [
    "base = os.path.dirname('')\n",
    "TRAIN_DIR = os.path.join(base + 'data/train')\n",
    "TEST_DIR = os.path.join(base + 'data/test')\n",
    "prototxt_file = os.path.join(base + 'data/deploy.prototxt.txt')\n",
    "caffemodel_file = os.path.join(base + 'data/weights.caffemodel')"
   ]
  },
  {
   "cell_type": "code",
   "execution_count": 96,
   "metadata": {},
   "outputs": [],
   "source": [
    "face_model = cv2.dnn.readNetFromCaffe(prototxt_file, caffemodel_file)"
   ]
  },
  {
   "cell_type": "code",
   "execution_count": 102,
   "metadata": {},
   "outputs": [
    {
     "data": {
      "text/plain": [
       "'data/train'"
      ]
     },
     "execution_count": 102,
     "metadata": {},
     "output_type": "execute_result"
    }
   ],
   "source": [
    "TRAIN_DIR"
   ]
  },
  {
   "cell_type": "code",
   "execution_count": 107,
   "metadata": {},
   "outputs": [],
   "source": [
    "a = cv2.imread(os.path.join(TRAIN_DIR + '/suyun/suyun4.jpg'))\n",
    "(h,w) = a.shape[:2]\n",
    "blob = cv2.dnn.blobFromImage(cv2.resize(a, (300, 300)), 1.0, (300, 300), (104.0, 177.0, 123.0))\n",
    "face_model.setInput(blob)\n",
    "detector = face_model.forward()"
   ]
  },
  {
   "cell_type": "code",
   "execution_count": 121,
   "metadata": {},
   "outputs": [
    {
     "data": {
      "text/plain": [
       "(1, 1, 108, 7)"
      ]
     },
     "execution_count": 121,
     "metadata": {},
     "output_type": "execute_result"
    }
   ],
   "source": [
    "detector.shape"
   ]
  },
  {
   "cell_type": "code",
   "execution_count": 123,
   "metadata": {},
   "outputs": [],
   "source": [
    "for i in range(0, detector.shape[2]):\n",
    "    rect = detector[0, 0, i, 3:7] * np.array([w, h, w, h])\n",
    "    (startX, startY, endX, endY) = rect.astype(\"int\")\n",
    "\n",
    "    confidence = detector[0, 0, i, 2]\n",
    "    if (confidence > 0.5):\n",
    "        cv2.rectangle(a, (startX, startY), (endX, endY), (255, 255, 255), 2)\n",
    "\n",
    "cv2.imshow('face', a)\n",
    "cv2.waitKey(0)\n",
    "cv2.destroyAllWindows()"
   ]
  },
  {
   "cell_type": "code",
   "execution_count": 47,
   "metadata": {},
   "outputs": [],
   "source": [
    "face_detector = cv2.CascadeClassifier('data/haarcascade_frontalface_default.xml')"
   ]
  },
  {
   "cell_type": "code",
   "execution_count": 50,
   "metadata": {},
   "outputs": [],
   "source": [
    "gray = cv2.cvtColor(a, cv2.COLOR_BGR2GRAY)\n",
    "face = face_detector.detectMultiScale(gray, scaleFactor=1.1, minNeighbors=5, minSize=(60,60))\n",
    "for (x, y, w, h) in face:\n",
    "    cv2.rectangle(a, (x,y), (x+w, y+h), (0,255,0), 2)\n",
    "cv2.imshow('face', a)\n",
    "cv2.waitKey(0)\n",
    "cv2.destroyAllWindows()"
   ]
  },
  {
   "cell_type": "code",
   "execution_count": 51,
   "metadata": {},
   "outputs": [],
   "source": [
    "cv2.imshow('extracted_face', a[y:y+h, x:x+h, :])\n",
    "cv2.waitKey(0)\n",
    "cv2.destroyAllWindows()"
   ]
  },
  {
   "cell_type": "code",
   "execution_count": null,
   "metadata": {},
   "outputs": [],
   "source": [
    "def play_video(path):\n",
    "    frame_name = 'Video'\n",
    "    vid = cv2.VideoCapture(path)\n",
    "#     audio = MediaPlayer(path)\n",
    "    \n",
    "    cv2.namedWindow(frame_name, cv2.WND_PROP_FULLSCREEN)\n",
    "    cv2.setWindowProperty(frame_name, cv2.WND_PROP_FULLSCREEN, cv2.WINDOW_FULLSCREEN)\n",
    "    \n",
    "    fps = vid.get(cv2.CAP_PROP_FPS)\n",
    "    print('Video fps:', fps)\n",
    "    \n",
    "    while vid.isOpened():\n",
    "        ret, frame = vid.read()\n",
    "#         audio_frame, val = audio.get_frame()\n",
    "        \n",
    "        gray = cv2.cvtColor(frame, cv2.COLOR_BGR2GRAY)\n",
    "        face = face_detector.detectMultiScale(gray, scaleFactor=1.1, minNeighbors=3, minSize=(30,30), maxSize=(200,200))\n",
    "        for (x, y, w, h) in face:\n",
    "            cv2.rectangle(frame, (x, y), (x+w, y+h), (0, 255, 0), 2)\n",
    "        \n",
    "        if not ret:\n",
    "            print('End of video...')\n",
    "            break\n",
    "        cv2.imshow(frame_name, frame)\n",
    "        if cv2.waitKey(1) & 0xFF == ord('q'):\n",
    "            break\n",
    "#         if val != 'eof' and audio_frame is not None:\n",
    "#             img, t = audio_frame\n",
    "        \n",
    "    vid.release()\n",
    "    cv2.destroyAllWindows()"
   ]
  },
  {
   "cell_type": "code",
   "execution_count": null,
   "metadata": {},
   "outputs": [],
   "source": [
    "play_video('data/rcpc_loveisover_mcountdown.webm')"
   ]
  },
  {
   "cell_type": "code",
   "execution_count": null,
   "metadata": {},
   "outputs": [],
   "source": []
  }
 ],
 "metadata": {
  "kernelspec": {
   "display_name": "Python 3",
   "language": "python",
   "name": "python3"
  },
  "language_info": {
   "codemirror_mode": {
    "name": "ipython",
    "version": 3
   },
   "file_extension": ".py",
   "mimetype": "text/x-python",
   "name": "python",
   "nbconvert_exporter": "python",
   "pygments_lexer": "ipython3",
   "version": "3.8.5"
  }
 },
 "nbformat": 4,
 "nbformat_minor": 4
}
