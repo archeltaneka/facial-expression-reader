{
 "cells": [
  {
   "cell_type": "code",
   "execution_count": 1,
   "metadata": {},
   "outputs": [],
   "source": [
    "import numpy as np\n",
    "import cv2\n",
    "import matplotlib.pyplot as plt\n",
    "import torch\n",
    "import os\n",
    "import pickle\n",
    "import re\n",
    "\n",
    "from glob import glob\n",
    "from ffpyplayer.player import MediaPlayer\n",
    "\n",
    "%matplotlib inline"
   ]
  },
  {
   "cell_type": "code",
   "execution_count": 2,
   "metadata": {},
   "outputs": [],
   "source": [
    "img_glob = glob('data/train/*/*.jpg')\n",
    "base = os.path.dirname('')\n",
    "TRAIN_DIR = os.path.join(base + 'data/train')\n",
    "TEST_DIR = os.path.join(base + 'data/test')\n",
    "prototxt_file = os.path.join(base + 'data/deploy.prototxt.txt')\n",
    "caffemodel_file = os.path.join(base + 'data/weights.caffemodel')"
   ]
  },
  {
   "cell_type": "code",
   "execution_count": 3,
   "metadata": {},
   "outputs": [],
   "source": [
    "name_glob = glob('data/train/*')\n",
    "names = []\n",
    "\n",
    "for n in name_glob:\n",
    "    names.append(n[11:])"
   ]
  },
  {
   "cell_type": "code",
   "execution_count": 4,
   "metadata": {},
   "outputs": [
    {
     "data": {
      "text/plain": [
       "['dahyun', 'juri', 'sohee', 'suyun', 'yeonhee', 'yunkyoung']"
      ]
     },
     "execution_count": 4,
     "metadata": {},
     "output_type": "execute_result"
    }
   ],
   "source": [
    "names"
   ]
  },
  {
   "cell_type": "code",
   "execution_count": 5,
   "metadata": {},
   "outputs": [],
   "source": [
    "face_model = cv2.dnn.readNetFromCaffe(prototxt_file, caffemodel_file)"
   ]
  },
  {
   "cell_type": "code",
   "execution_count": 6,
   "metadata": {},
   "outputs": [],
   "source": [
    "IMG_SIZE = 128\n",
    "extracted_faces = []\n",
    "\n",
    "for img in img_glob:\n",
    "#     print(img)\n",
    "    a = cv2.imread(img)\n",
    "    (h,w) = a.shape[:2]\n",
    "    blob = cv2.dnn.blobFromImage(a, scalefactor=1.0, size=(300, 300), mean=(104.0, 177.0, 123.0), swapRB=False, crop=False)\n",
    "    face_model.setInput(blob)\n",
    "    detector = face_model.forward()\n",
    "    \n",
    "    for i in range(0, detector.shape[0]):\n",
    "        rect = detector[0, 0, i, 3:7] * np.array([w, h, w, h])\n",
    "        (startX, startY, endX, endY) = rect.astype(\"int\")\n",
    "\n",
    "        confidence = detector[0, 0, i, 2]\n",
    "        if (confidence > 0.5):\n",
    "            cv2.rectangle(a, (startX, startY), (endX, endY), (255, 255, 255), 2)\n",
    "        \n",
    "        face = a[startY:endY, startX:endX]\n",
    "        resized_face = cv2.resize(face, (IMG_SIZE, IMG_SIZE))\n",
    "        extracted_faces.append(resized_face)\n",
    "        \n",
    "# save to disk\n",
    "data = {'extracted_faces': extracted_faces, 'names': names}\n",
    "with open('extracted_faces.pickle', 'wb') as f:\n",
    "    pickle.dump(data, f)"
   ]
  },
  {
   "cell_type": "code",
   "execution_count": null,
   "metadata": {},
   "outputs": [],
   "source": [
    "a = cv2.imread('data/train\\yeonhee\\yeonhee6.jpg')\n",
    "(h,w) = a.shape[:2]\n",
    "blob = cv2.dnn.blobFromImage(a, scalefactor=1.0, size=(300, 300), mean=(104.0, 177.0, 123.0), swapRB=False, crop=False)\n",
    "face_model.setInput(blob)\n",
    "detector = face_model.forward()\n",
    "    \n",
    "for i in range(0, detector.shape[0]):\n",
    "    rect = detector[0, 0, i, 3:7] * np.array([w, h, w, h])\n",
    "    (startX, startY, endX, endY) = rect.astype(\"int\")\n",
    "\n",
    "    confidence = detector[0, 0, i, 2]\n",
    "    if (confidence > 0.5):\n",
    "        cv2.rectangle(a, (startX, startY), (endX, endY), (255, 255, 255), 2)\n",
    "        \n",
    "    face = a[startY:endY, startX:endX]\n",
    "    face = cv2.resize(face, (128,128))\n",
    "    cv2.imshow('face', face)\n",
    "    cv2.waitKey(0)\n",
    "    cv2.destroyAllWindows()\n",
    "    "
   ]
  },
  {
   "cell_type": "markdown",
   "metadata": {},
   "source": [
    "## Checkpoint"
   ]
  },
  {
   "cell_type": "code",
   "execution_count": 2,
   "metadata": {},
   "outputs": [],
   "source": [
    "# load the saved extracted faces pickle\n",
    "with open('extracted_faces.pickle', 'rb') as f:\n",
    "    face_loader = pickle.load(f)\n",
    "\n",
    "raw_data = list(face_loader.values())\n",
    "cv2.imshow('test', raw_data[0][1])\n",
    "cv2.waitKey(0)\n",
    "cv2.destroyAllWindows()"
   ]
  },
  {
   "cell_type": "code",
   "execution_count": 3,
   "metadata": {},
   "outputs": [],
   "source": [
    "from torchvision import datasets, transforms\n",
    "\n",
    "root = './data'\n",
    "\n",
    "transform = transforms.Compose([transforms.ToTensor()])\n",
    "train = datasets.MNIST(root=root, train=True, transform=transform, download=True)"
   ]
  },
  {
   "cell_type": "code",
   "execution_count": 4,
   "metadata": {},
   "outputs": [
    {
     "name": "stdout",
     "output_type": "stream",
     "text": [
      "torch.Size([60000, 28, 28])\n",
      "torch.Size([28, 28])\n",
      "tensor([5, 0, 4,  ..., 5, 6, 8])\n",
      "torch.Size([60000])\n",
      "<class 'torch.Tensor'>\n"
     ]
    }
   ],
   "source": [
    "print(train.data.shape)\n",
    "print(train.data[0].shape)\n",
    "print(train.targets)\n",
    "print(train.targets.shape)\n",
    "print(type(train.data))"
   ]
  },
  {
   "cell_type": "code",
   "execution_count": 5,
   "metadata": {},
   "outputs": [
    {
     "name": "stdout",
     "output_type": "stream",
     "text": [
      "(60, 128, 128, 3)\n",
      "(6,)\n"
     ]
    }
   ],
   "source": [
    "# split between features and labels\n",
    "features = raw_data[0]\n",
    "labels = raw_data[1]\n",
    "\n",
    "train_data = np.asarray(features)\n",
    "train_labels = np.asarray(labels)\n",
    "print(train_data.shape)\n",
    "print(train_labels.shape)\n",
    "cv2.imshow('test', train_data[0])\n",
    "cv2.waitKey(0)\n",
    "cv2.destroyAllWindows()"
   ]
  },
  {
   "cell_type": "code",
   "execution_count": null,
   "metadata": {},
   "outputs": [],
   "source": [
    "# def play_video(path):\n",
    "#     frame_name = 'Video'\n",
    "#     vid = cv2.VideoCapture(path)\n",
    "# #     audio = MediaPlayer(path)\n",
    "    \n",
    "#     cv2.namedWindow(frame_name, cv2.WND_PROP_FULLSCREEN)\n",
    "#     cv2.setWindowProperty(frame_name, cv2.WND_PROP_FULLSCREEN, cv2.WINDOW_FULLSCREEN)\n",
    "    \n",
    "#     fps = vid.get(cv2.CAP_PROP_FPS)\n",
    "#     print('Video fps:', fps)\n",
    "    \n",
    "#     while vid.isOpened():\n",
    "#         ret, frame = vid.read()\n",
    "# #         audio_frame, val = audio.get_frame()\n",
    "        \n",
    "#         gray = cv2.cvtColor(frame, cv2.COLOR_BGR2GRAY)\n",
    "#         face = face_detector.detectMultiScale(gray, scaleFactor=1.1, minNeighbors=3, minSize=(30,30), maxSize=(200,200))\n",
    "#         for (x, y, w, h) in face:\n",
    "#             cv2.rectangle(frame, (x, y), (x+w, y+h), (0, 255, 0), 2)\n",
    "        \n",
    "#         if not ret:\n",
    "#             print('End of video...')\n",
    "#             break\n",
    "#         cv2.imshow(frame_name, frame)\n",
    "#         if cv2.waitKey(1) & 0xFF == ord('q'):\n",
    "#             break\n",
    "# #         if val != 'eof' and audio_frame is not None:\n",
    "# #             img, t = audio_frame\n",
    "        \n",
    "#     vid.release()\n",
    "#     cv2.destroyAllWindows()"
   ]
  },
  {
   "cell_type": "code",
   "execution_count": null,
   "metadata": {},
   "outputs": [],
   "source": [
    "# play_video('data/rcpc_loveisover_mcountdown.webm')"
   ]
  },
  {
   "cell_type": "code",
   "execution_count": null,
   "metadata": {},
   "outputs": [],
   "source": []
  }
 ],
 "metadata": {
  "kernelspec": {
   "display_name": "Python 3",
   "language": "python",
   "name": "python3"
  },
  "language_info": {
   "codemirror_mode": {
    "name": "ipython",
    "version": 3
   },
   "file_extension": ".py",
   "mimetype": "text/x-python",
   "name": "python",
   "nbconvert_exporter": "python",
   "pygments_lexer": "ipython3",
   "version": "3.8.5"
  }
 },
 "nbformat": 4,
 "nbformat_minor": 4
}
